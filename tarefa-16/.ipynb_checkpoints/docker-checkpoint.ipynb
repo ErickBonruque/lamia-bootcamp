{
 "cells": [
  {
   "cell_type": "markdown",
   "id": "b3974d36-7c2a-42e0-ab2c-77cc26db6f0a",
   "metadata": {},
   "source": [
    "# Principais Comandos Docker"
   ]
  },
  {
   "cell_type": "markdown",
   "id": "e8c51334-4bfa-4c79-9bdd-c1b49462655c",
   "metadata": {},
   "source": [
    "Verifica a versão do Docker instalada:"
   ]
  },
  {
   "cell_type": "code",
   "execution_count": null,
   "id": "23978ae3-3032-4ab0-8ba9-9e93e2a01dd7",
   "metadata": {},
   "outputs": [],
   "source": [
    "- docker version"
   ]
  },
  {
   "cell_type": "markdown",
   "id": "98428d65-f68b-4a47-95fc-9c5a16cf31a4",
   "metadata": {},
   "source": [
    "Fornece informações detalhadas sobre o ambiente Docker, como número de contêineres em execução, imagens e mais: "
   ]
  },
  {
   "cell_type": "code",
   "execution_count": null,
   "id": "41f352f6-5ad0-425d-9404-b4168882d87f",
   "metadata": {},
   "outputs": [],
   "source": [
    "- docker info"
   ]
  },
  {
   "cell_type": "markdown",
   "id": "79672cf8-f4ce-45b4-b3f6-86a84bd561d3",
   "metadata": {},
   "source": [
    "Baixa uma imagem do Docker Hub ou de outro registro de contêineres:"
   ]
  },
  {
   "cell_type": "code",
   "execution_count": null,
   "id": "8b2a0692-7cf7-46f4-b969-df3c1548f5a5",
   "metadata": {},
   "outputs": [],
   "source": [
    "- docker pull <imagem>"
   ]
  },
  {
   "cell_type": "markdown",
   "id": "5e064e02-4451-4255-b7c6-8cb2bffc592c",
   "metadata": {},
   "source": [
    "Constrói uma imagem a partir de um Dockerfile:"
   ]
  },
  {
   "cell_type": "code",
   "execution_count": null,
   "id": "c5f69b2b-1a71-46dc-a86f-8d26935c3d93",
   "metadata": {},
   "outputs": [],
   "source": [
    "- docker build -t <nome_da_imagem> <caminho_do_Dockerfile>"
   ]
  },
  {
   "cell_type": "markdown",
   "id": "038f2af6-4cef-4308-ac25-07ae6c9b7843",
   "metadata": {},
   "source": [
    "Lista todas as imagens disponíveis localmente:"
   ]
  },
  {
   "cell_type": "code",
   "execution_count": null,
   "id": "791793c6-8d1b-4dc3-8b69-f0b3f9b72864",
   "metadata": {},
   "outputs": [],
   "source": [
    "- docker images "
   ]
  },
  {
   "cell_type": "markdown",
   "id": "2771b824-9812-443b-b797-f15f8c7af6e3",
   "metadata": {},
   "source": [
    "Remove uma imagem local:"
   ]
  },
  {
   "cell_type": "code",
   "execution_count": null,
   "id": "8753e981-e2bf-489f-a423-874371ff1fc7",
   "metadata": {},
   "outputs": [],
   "source": [
    "- docker rmi <nome_da_imagem>"
   ]
  },
  {
   "cell_type": "markdown",
   "id": "cbcc9a3c-0607-4e51-aa48-c340f4e9aef9",
   "metadata": {},
   "source": [
    "Lista todos os contêineres em execução:"
   ]
  },
  {
   "cell_type": "code",
   "execution_count": null,
   "id": "fca233e2-9051-41da-987a-637211e230eb",
   "metadata": {},
   "outputs": [],
   "source": [
    "- docker ps"
   ]
  },
  {
   "cell_type": "markdown",
   "id": "a5ea26b9-e90a-4efd-b6d1-b65a57b47beb",
   "metadata": {},
   "source": [
    "Lista todos os contêineres, incluindo os que não estão em execução:"
   ]
  },
  {
   "cell_type": "code",
   "execution_count": null,
   "id": "45145f39-adfc-49a3-b3ff-75bee9e0f3e7",
   "metadata": {},
   "outputs": [],
   "source": [
    "- docker ps -a"
   ]
  },
  {
   "cell_type": "markdown",
   "id": "21a78e3c-9a9f-46f9-864b-60177affbe92",
   "metadata": {},
   "source": [
    "Cria e inicia um contêiner a partir de uma imagem:"
   ]
  },
  {
   "cell_type": "code",
   "execution_count": null,
   "id": "ace41781-133f-4774-9685-4479f07e36e1",
   "metadata": {},
   "outputs": [],
   "source": [
    "- docker run <opções> <imagem>"
   ]
  },
  {
   "cell_type": "markdown",
   "id": "c4f82807-5029-4c68-a0f7-1af4e6d4790d",
   "metadata": {},
   "source": [
    "Executa um comando dentro de um contêiner em execução:"
   ]
  },
  {
   "cell_type": "code",
   "execution_count": null,
   "id": "70df986b-88f1-4fbc-a0c8-94affde3fe58",
   "metadata": {},
   "outputs": [],
   "source": [
    "- docker exec -it <nome_do_contêiner> <comando>"
   ]
  },
  {
   "cell_type": "markdown",
   "id": "661771c3-9890-42d4-9576-050f93592c9b",
   "metadata": {},
   "source": [
    "Para a execução de um contêiner em execução:"
   ]
  },
  {
   "cell_type": "code",
   "execution_count": null,
   "id": "7d010011-e5f9-4222-926f-c939a203d213",
   "metadata": {},
   "outputs": [],
   "source": [
    "- docker stop <nome_do_contêiner>"
   ]
  },
  {
   "cell_type": "markdown",
   "id": "a9f62dbd-5c23-4657-a6de-58dc4c1f36f4",
   "metadata": {},
   "source": [
    "Inicia um contêiner que foi parado:"
   ]
  },
  {
   "cell_type": "code",
   "execution_count": null,
   "id": "3708559c-5846-442e-86f8-52f9285b328d",
   "metadata": {},
   "outputs": [],
   "source": [
    "- docker start <nome_do_contêiner>"
   ]
  },
  {
   "cell_type": "markdown",
   "id": "906cdf74-d2df-450c-b2f7-6716fb10a704",
   "metadata": {},
   "source": [
    "Reinicia um contêiner: "
   ]
  },
  {
   "cell_type": "code",
   "execution_count": null,
   "id": "d6429782-d96c-41bb-ae21-69a57353e9b5",
   "metadata": {},
   "outputs": [],
   "source": [
    "- docker restart <nome_do_contêiner>"
   ]
  },
  {
   "cell_type": "markdown",
   "id": "6de462c0-9c45-4a66-9ff0-f254ec7fc479",
   "metadata": {},
   "source": [
    "Remove um contêiner: "
   ]
  },
  {
   "cell_type": "code",
   "execution_count": null,
   "id": "822b5fe6-a371-4395-9a6e-c66fdf1d96ae",
   "metadata": {},
   "outputs": [],
   "source": [
    "- docker rm <nome_do_contêiner>"
   ]
  },
  {
   "cell_type": "markdown",
   "id": "52dc8a1a-1092-415c-b84a-e4a6ce62d3b6",
   "metadata": {},
   "source": [
    "Exibe os logs de um contêiner: "
   ]
  },
  {
   "cell_type": "code",
   "execution_count": null,
   "id": "604488e3-f8ba-45b2-92eb-ca3ec4f29ac2",
   "metadata": {},
   "outputs": [],
   "source": [
    "- docker logs <nome_do_contêiner>"
   ]
  },
  {
   "cell_type": "markdown",
   "id": "7608a157-51ff-4baf-9d84-08e00dde782b",
   "metadata": {},
   "source": [
    "Lista todas as redes Docker:"
   ]
  },
  {
   "cell_type": "code",
   "execution_count": null,
   "id": "4df5cc93-2297-4a59-9d67-f11ccedff269",
   "metadata": {},
   "outputs": [],
   "source": [
    "- docker network ls"
   ]
  },
  {
   "cell_type": "markdown",
   "id": "de9ae271-bb94-487e-b7d7-58ecc0c49266",
   "metadata": {},
   "source": [
    "Lista todos os volumes Docker: "
   ]
  },
  {
   "cell_type": "code",
   "execution_count": null,
   "id": "9d51bd4b-4f2c-4915-b987-fda4629d0afe",
   "metadata": {},
   "outputs": [],
   "source": [
    "- docker volume ls"
   ]
  },
  {
   "cell_type": "markdown",
   "id": "c025a307-8845-4b63-a267-62c896588698",
   "metadata": {},
   "source": [
    "Inicia os serviços definidos em um arquivo docker-compose.yml:"
   ]
  },
  {
   "cell_type": "code",
   "execution_count": null,
   "id": "d2d625a2-ab0b-4de3-85de-1ff90ef24420",
   "metadata": {},
   "outputs": [],
   "source": [
    "- docker-compose up"
   ]
  },
  {
   "cell_type": "markdown",
   "id": "aac2d488-7457-44a8-ad79-4c13583de332",
   "metadata": {},
   "source": [
    "Para e remove os contêineres, redes e volumes definidos em um arquivo docker-compose.yml :"
   ]
  },
  {
   "cell_type": "code",
   "execution_count": null,
   "id": "9e3d6ffe-2b79-439f-815f-dccc40b9d536",
   "metadata": {},
   "outputs": [],
   "source": [
    "- docker-compose down"
   ]
  }
 ],
 "metadata": {
  "kernelspec": {
   "display_name": "",
   "name": ""
  },
  "language_info": {
   "name": ""
  }
 },
 "nbformat": 4,
 "nbformat_minor": 5
}
