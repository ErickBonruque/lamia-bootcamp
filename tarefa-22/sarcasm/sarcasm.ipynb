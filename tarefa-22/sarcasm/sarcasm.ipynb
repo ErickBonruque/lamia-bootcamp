{
 "cells": [
  {
   "cell_type": "code",
   "execution_count": 1,
   "id": "2c869d1e-d7e1-4198-a50c-c686ea2ce45f",
   "metadata": {},
   "outputs": [],
   "source": [
    "import json\n",
    "\n",
    "with open(\"sarcasm.json\", 'r') as f:\n",
    "    datastore = json.load(f)"
   ]
  },
  {
   "cell_type": "code",
   "execution_count": 2,
   "id": "c3b32881-f620-4f94-a80f-485f1a72181a",
   "metadata": {},
   "outputs": [],
   "source": [
    "sentences = []\n",
    "labels = []\n",
    "\n",
    "for item in datastore:\n",
    "    sentences.append(item['headline'])\n",
    "    labels.append(item['is_sarcastic'])"
   ]
  },
  {
   "cell_type": "code",
   "execution_count": 3,
   "id": "dafea855-0cec-4037-ab9f-8d500d93b411",
   "metadata": {},
   "outputs": [],
   "source": [
    "training_size = 20000\n",
    "\n",
    "training_sentences = sentences[0:training_size]\n",
    "testing_sentences = sentences[training_size:]\n",
    "training_labels = labels[0:training_size]\n",
    "testing_labels = labels[training_size:]"
   ]
  },
  {
   "cell_type": "code",
   "execution_count": 4,
   "id": "b3bfeff1-271a-4492-9b5b-920c0f765b56",
   "metadata": {},
   "outputs": [
    {
     "name": "stdout",
     "output_type": "stream",
     "text": [
      "WARNING:tensorflow:From C:\\Users\\bonru\\AppData\\Local\\Programs\\Python\\Python311\\Lib\\site-packages\\keras\\src\\losses.py:2976: The name tf.losses.sparse_softmax_cross_entropy is deprecated. Please use tf.compat.v1.losses.sparse_softmax_cross_entropy instead.\n",
      "\n"
     ]
    }
   ],
   "source": [
    "from keras.preprocessing.text import Tokenizer\n",
    "from keras.preprocessing.sequence import pad_sequences\n",
    "\n",
    "vocab_size = 10000\n",
    "oov_tok = \"<OOV>\"\n",
    "max_length = 100\n",
    "padding_type='post'\n",
    "trunc_type='post'\n",
    "\n",
    "tokenizer = Tokenizer(num_words=vocab_size, oov_token=oov_tok)\n",
    "tokenizer.fit_on_texts(training_sentences)\n",
    "\n",
    "word_index = tokenizer.word_index"
   ]
  },
  {
   "cell_type": "code",
   "execution_count": 5,
   "id": "1c772cc0-abe1-4e73-ad2d-9501376031e0",
   "metadata": {},
   "outputs": [],
   "source": [
    "training_sequences = tokenizer.texts_to_sequences(training_sentences)\n",
    "training_padded = pad_sequences(training_sequences, maxlen=max_length, padding=padding_type, truncating=trunc_type)\n",
    "\n",
    "testing_sequences = tokenizer.texts_to_sequences(testing_sentences)\n",
    "testing_padded = pad_sequences(testing_sequences, maxlen=max_length, padding=padding_type, truncating=trunc_type)"
   ]
  },
  {
   "cell_type": "code",
   "execution_count": 6,
   "id": "71846317-65c2-446e-ad36-7e3ff0a34e70",
   "metadata": {},
   "outputs": [],
   "source": [
    "import numpy as np\n",
    "\n",
    "training_padded = np.array(training_padded)\n",
    "training_labels = np.array(training_labels)\n",
    "testing_padded = np.array(testing_padded)\n",
    "testing_labels = np.array(testing_labels)"
   ]
  },
  {
   "cell_type": "code",
   "execution_count": 7,
   "id": "d6b28078-f519-463d-9263-67eea57543eb",
   "metadata": {},
   "outputs": [
    {
     "name": "stdout",
     "output_type": "stream",
     "text": [
      "WARNING:tensorflow:From C:\\Users\\bonru\\AppData\\Local\\Programs\\Python\\Python311\\Lib\\site-packages\\keras\\src\\backend.py:873: The name tf.get_default_graph is deprecated. Please use tf.compat.v1.get_default_graph instead.\n",
      "\n",
      "WARNING:tensorflow:From C:\\Users\\bonru\\AppData\\Local\\Programs\\Python\\Python311\\Lib\\site-packages\\keras\\src\\optimizers\\__init__.py:309: The name tf.train.Optimizer is deprecated. Please use tf.compat.v1.train.Optimizer instead.\n",
      "\n"
     ]
    }
   ],
   "source": [
    "from keras.models import Sequential\n",
    "from keras.layers import Embedding, GlobalAveragePooling1D, Dense\n",
    "\n",
    "embedding_dim = 16\n",
    "\n",
    "model = Sequential([\n",
    "    Embedding(vocab_size, embedding_dim, input_length=max_length),\n",
    "    GlobalAveragePooling1D(),\n",
    "    Dense(24, activation='relu'),\n",
    "    Dense(1, activation='sigmoid')\n",
    "])\n",
    "\n",
    "model.compile(loss='binary_crossentropy', optimizer='adam', metrics=['accuracy'])"
   ]
  },
  {
   "cell_type": "code",
   "execution_count": 8,
   "id": "83774a96-ef4b-4eb1-9d08-78434074e5a9",
   "metadata": {},
   "outputs": [
    {
     "name": "stdout",
     "output_type": "stream",
     "text": [
      "Epoch 1/30\n",
      "WARNING:tensorflow:From C:\\Users\\bonru\\AppData\\Local\\Programs\\Python\\Python311\\Lib\\site-packages\\keras\\src\\utils\\tf_utils.py:492: The name tf.ragged.RaggedTensorValue is deprecated. Please use tf.compat.v1.ragged.RaggedTensorValue instead.\n",
      "\n",
      "WARNING:tensorflow:From C:\\Users\\bonru\\AppData\\Local\\Programs\\Python\\Python311\\Lib\\site-packages\\keras\\src\\engine\\base_layer_utils.py:384: The name tf.executing_eagerly_outside_functions is deprecated. Please use tf.compat.v1.executing_eagerly_outside_functions instead.\n",
      "\n",
      "625/625 - 10s - loss: 0.6626 - accuracy: 0.5846 - val_loss: 0.5845 - val_accuracy: 0.7845 - 10s/epoch - 16ms/step\n",
      "Epoch 2/30\n",
      "625/625 - 4s - loss: 0.4386 - accuracy: 0.8296 - val_loss: 0.3887 - val_accuracy: 0.8407 - 4s/epoch - 7ms/step\n",
      "Epoch 3/30\n",
      "625/625 - 5s - loss: 0.3144 - accuracy: 0.8765 - val_loss: 0.3544 - val_accuracy: 0.8541 - 5s/epoch - 8ms/step\n",
      "Epoch 4/30\n",
      "625/625 - 5s - loss: 0.2615 - accuracy: 0.8982 - val_loss: 0.3461 - val_accuracy: 0.8557 - 5s/epoch - 8ms/step\n",
      "Epoch 5/30\n",
      "625/625 - 5s - loss: 0.2256 - accuracy: 0.9129 - val_loss: 0.3433 - val_accuracy: 0.8569 - 5s/epoch - 8ms/step\n",
      "Epoch 6/30\n",
      "625/625 - 3s - loss: 0.1976 - accuracy: 0.9259 - val_loss: 0.3492 - val_accuracy: 0.8544 - 3s/epoch - 5ms/step\n",
      "Epoch 7/30\n",
      "625/625 - 5s - loss: 0.1769 - accuracy: 0.9334 - val_loss: 0.3642 - val_accuracy: 0.8551 - 5s/epoch - 7ms/step\n",
      "Epoch 8/30\n",
      "625/625 - 4s - loss: 0.1585 - accuracy: 0.9411 - val_loss: 0.3886 - val_accuracy: 0.8459 - 4s/epoch - 7ms/step\n",
      "Epoch 9/30\n",
      "625/625 - 4s - loss: 0.1424 - accuracy: 0.9498 - val_loss: 0.3981 - val_accuracy: 0.8486 - 4s/epoch - 6ms/step\n",
      "Epoch 10/30\n",
      "625/625 - 5s - loss: 0.1288 - accuracy: 0.9546 - val_loss: 0.4328 - val_accuracy: 0.8380 - 5s/epoch - 9ms/step\n",
      "Epoch 11/30\n",
      "625/625 - 5s - loss: 0.1184 - accuracy: 0.9592 - val_loss: 0.4459 - val_accuracy: 0.8419 - 5s/epoch - 8ms/step\n",
      "Epoch 12/30\n",
      "625/625 - 4s - loss: 0.1080 - accuracy: 0.9636 - val_loss: 0.4517 - val_accuracy: 0.8487 - 4s/epoch - 7ms/step\n",
      "Epoch 13/30\n",
      "625/625 - 3s - loss: 0.0992 - accuracy: 0.9672 - val_loss: 0.4802 - val_accuracy: 0.8410 - 3s/epoch - 6ms/step\n",
      "Epoch 14/30\n",
      "625/625 - 4s - loss: 0.0913 - accuracy: 0.9704 - val_loss: 0.4996 - val_accuracy: 0.8426 - 4s/epoch - 6ms/step\n",
      "Epoch 15/30\n",
      "625/625 - 3s - loss: 0.0838 - accuracy: 0.9726 - val_loss: 0.5324 - val_accuracy: 0.8384 - 3s/epoch - 5ms/step\n",
      "Epoch 16/30\n",
      "625/625 - 3s - loss: 0.0761 - accuracy: 0.9750 - val_loss: 0.5573 - val_accuracy: 0.8369 - 3s/epoch - 4ms/step\n",
      "Epoch 17/30\n",
      "625/625 - 3s - loss: 0.0719 - accuracy: 0.9772 - val_loss: 0.5870 - val_accuracy: 0.8351 - 3s/epoch - 6ms/step\n",
      "Epoch 18/30\n",
      "625/625 - 4s - loss: 0.0657 - accuracy: 0.9791 - val_loss: 0.6216 - val_accuracy: 0.8313 - 4s/epoch - 6ms/step\n",
      "Epoch 19/30\n",
      "625/625 - 4s - loss: 0.0607 - accuracy: 0.9815 - val_loss: 0.6596 - val_accuracy: 0.8292 - 4s/epoch - 7ms/step\n",
      "Epoch 20/30\n",
      "625/625 - 4s - loss: 0.0569 - accuracy: 0.9826 - val_loss: 0.6784 - val_accuracy: 0.8286 - 4s/epoch - 6ms/step\n",
      "Epoch 21/30\n",
      "625/625 - 3s - loss: 0.0506 - accuracy: 0.9843 - val_loss: 0.7181 - val_accuracy: 0.8268 - 3s/epoch - 5ms/step\n",
      "Epoch 22/30\n",
      "625/625 - 4s - loss: 0.0460 - accuracy: 0.9856 - val_loss: 0.7577 - val_accuracy: 0.8241 - 4s/epoch - 7ms/step\n",
      "Epoch 23/30\n",
      "625/625 - 4s - loss: 0.0426 - accuracy: 0.9879 - val_loss: 0.7900 - val_accuracy: 0.8182 - 4s/epoch - 7ms/step\n",
      "Epoch 24/30\n",
      "625/625 - 5s - loss: 0.0406 - accuracy: 0.9882 - val_loss: 0.8564 - val_accuracy: 0.8193 - 5s/epoch - 8ms/step\n",
      "Epoch 25/30\n",
      "625/625 - 6s - loss: 0.0366 - accuracy: 0.9894 - val_loss: 0.8948 - val_accuracy: 0.8198 - 6s/epoch - 9ms/step\n",
      "Epoch 26/30\n",
      "625/625 - 4s - loss: 0.0335 - accuracy: 0.9903 - val_loss: 0.9173 - val_accuracy: 0.8174 - 4s/epoch - 6ms/step\n",
      "Epoch 27/30\n",
      "625/625 - 5s - loss: 0.0316 - accuracy: 0.9913 - val_loss: 0.9781 - val_accuracy: 0.8159 - 5s/epoch - 9ms/step\n",
      "Epoch 28/30\n",
      "625/625 - 6s - loss: 0.0279 - accuracy: 0.9926 - val_loss: 0.9999 - val_accuracy: 0.8161 - 6s/epoch - 10ms/step\n",
      "Epoch 29/30\n",
      "625/625 - 6s - loss: 0.0267 - accuracy: 0.9930 - val_loss: 1.0121 - val_accuracy: 0.8129 - 6s/epoch - 9ms/step\n",
      "Epoch 30/30\n",
      "625/625 - 5s - loss: 0.0249 - accuracy: 0.9930 - val_loss: 1.1121 - val_accuracy: 0.8156 - 5s/epoch - 8ms/step\n"
     ]
    }
   ],
   "source": [
    "history = model.fit(training_padded, training_labels, epochs=30, validation_data=(testing_padded, testing_labels), verbose=2)"
   ]
  },
  {
   "cell_type": "code",
   "execution_count": null,
   "id": "10339c04-dd73-451b-bcc6-d6a0cfb5b989",
   "metadata": {},
   "outputs": [],
   "source": []
  }
 ],
 "metadata": {
  "kernelspec": {
   "display_name": "Python 3 (ipykernel)",
   "language": "python",
   "name": "python3"
  },
  "language_info": {
   "codemirror_mode": {
    "name": "ipython",
    "version": 3
   },
   "file_extension": ".py",
   "mimetype": "text/x-python",
   "name": "python",
   "nbconvert_exporter": "python",
   "pygments_lexer": "ipython3",
   "version": "3.11.5"
  }
 },
 "nbformat": 4,
 "nbformat_minor": 5
}
