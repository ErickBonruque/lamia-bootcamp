{
 "cells": [
  {
   "cell_type": "code",
   "execution_count": 63,
   "metadata": {},
   "outputs": [],
   "source": [
    "import tensorflow as tf\n",
    "import os\n",
    "import numpy as np\n",
    "import random"
   ]
  },
  {
   "cell_type": "code",
   "execution_count": 64,
   "metadata": {},
   "outputs": [
    {
     "name": "stdout",
     "output_type": "stream",
     "text": [
      "Num GPus Available:  0\n"
     ]
    }
   ],
   "source": [
    "print(\"Num GPus Available: \", len(tf.config.experimental.list_physical_devices('GPU')))"
   ]
  },
  {
   "cell_type": "code",
   "execution_count": 65,
   "metadata": {},
   "outputs": [],
   "source": [
    "SEED = 123456\n",
    "os.environ['PYTHONHASHSEED'] = str(SEED)\n",
    "os.environ['TF_DETERMINISTIC_OPS'] = '1'\n",
    "random.seed(SEED)\n",
    "np.random.seed(SEED)\n",
    "tf.random.set_seed(SEED)"
   ]
  },
  {
   "cell_type": "code",
   "execution_count": 66,
   "metadata": {},
   "outputs": [],
   "source": [
    "from tensorflow.keras.datasets import fashion_mnist"
   ]
  },
  {
   "cell_type": "code",
   "execution_count": 67,
   "metadata": {},
   "outputs": [],
   "source": [
    "(x_train, y_train), (x_test, y_test) = fashion_mnist.load_data()\n",
    "assert x_train.shape == (60000, 28, 28)\n",
    "assert x_test.shape == (10000, 28, 28) \n",
    "assert y_train.shape == (60000,) \n",
    "assert y_test.shape == (10000,)"
   ]
  },
  {
   "cell_type": "code",
   "execution_count": 68,
   "metadata": {},
   "outputs": [],
   "source": [
    "from matplotlib import pyplot as plt"
   ]
  },
  {
   "cell_type": "code",
   "execution_count": 69,
   "metadata": {},
   "outputs": [
    {
     "data": {
      "image/png": "[encoded data removed]",
      "text/plain": [
       "<Figure size 900x900 with 9 Axes>"
      ]
     },
     "metadata": {},
     "output_type": "display_data"
    }
   ],
   "source": [
    "plt.figure(figsize=(9,9))\n",
    "\n",
    "rndSamples = np.random.choice(60000, 9)\n",
    "\n",
    "for i in range(9):\n",
    "    plt.subplot(3,3,i+1)\n",
    "    plt.imshow(x_train[rndSamples[i]], cmap='gray')\n",
    "    plt.title(y_train[rndSamples[i]])\n",
    "    plt.axis('off')\n",
    "plt.show()"
   ]
  },
  {
   "cell_type": "code",
   "execution_count": 70,
   "metadata": {},
   "outputs": [],
   "source": [
    "dataset = np.concatenate([x_train, x_test], axis=0)\n",
    "dataset = np.expand_dims(dataset, axis=-1).astype('float32') / 255.0"
   ]
  },
  {
   "cell_type": "code",
   "execution_count": 71,
   "metadata": {},
   "outputs": [],
   "source": [
    "from tensorflow import keras\n",
    "from tensorflow.keras import layers\n",
    "\n",
    "class Sampling(layers.Layer):\n",
    "    def call(self, inputs):\n",
    "        \"\"\"\n",
    "        Amostra uma distribuição normal com base nos parâmetros de média e log-variância fornecidos.\n",
    "\n",
    "        Args:\n",
    "            inputs: Uma tupla contendo os tensores de média (z_mean) e log-variância (z_log_var).\n",
    "\n",
    "        Returns:\n",
    "            Um tensor amostrado da distribuição normal com base nos parâmetros de entrada.\n",
    "        \"\"\"\n",
    "        z_mean, z_log_var = inputs\n",
    "        batch = tf.shape(z_mean)[0]\n",
    "        dim = tf.shape(z_mean)[1]\n",
    "        epsilon = tf.keras.backend.random_normal(shape=(batch, dim))\n",
    "        return z_mean + tf.exp(0.5 * z_log_var) * epsilon"
   ]
  },
  {
   "cell_type": "code",
   "execution_count": 72,
   "metadata": {},
   "outputs": [
    {
     "name": "stdout",
     "output_type": "stream",
     "text": [
      "Model: \"encoder\"\n",
      "__________________________________________________________________________________________________\n",
      " Layer (type)                Output Shape                 Param #   Connected to                  \n",
      "==================================================================================================\n",
      " input_8 (InputLayer)        [(None, 28, 28, 1)]          0         []                            \n",
      "                                                                                                  \n",
      " sequential_5 (Sequential)   (None, 256)                  878144    ['input_8[0][0]']             \n",
      "                                                                                                  \n",
      " z_mean (Dense)              (None, 2)                    514       ['sequential_5[0][0]']        \n",
      "                                                                                                  \n",
      " z_log_var (Dense)           (None, 2)                    514       ['sequential_5[0][0]']        \n",
      "                                                                                                  \n",
      " sampling_3 (Sampling)       (None, 2)                    0         ['z_mean[0][0]',              \n",
      "                                                                     'z_log_var[0][0]']           \n",
      "                                                                                                  \n",
      "==================================================================================================\n",
      "Total params: 879172 (3.35 MB)\n",
      "Trainable params: 879172 (3.35 MB)\n",
      "Non-trainable params: 0 (0.00 Byte)\n",
      "__________________________________________________________________________________________________\n"
     ]
    }
   ],
   "source": [
    "def buildEncoder(latentDim, encoderInputs):\n",
    "    # Cria uma sequência de camadas do modelo do encoder\n",
    "    l1 = keras.models.Sequential([\n",
    "        layers.Conv2D(128, kernel_size=(3, 3), activation='relu', strides=2, padding='same', input_shape=(28, 28, 1)),\n",
    "        layers.Conv2D(64, kernel_size=(3, 3), activation='relu', strides=2, padding='same'),\n",
    "        layers.Flatten(),\n",
    "        layers.Dense(256, activation='relu')    \n",
    "    ])\n",
    "    \n",
    "    # Aplica as camadas do modelo do encoder nas entradas do encoder\n",
    "    x = l1(encoderInputs)\n",
    "    \n",
    "    # Calcula a média e o logaritmo da variância do vetor latente\n",
    "    zMean = layers.Dense(latentDim, name='z_mean')(x)\n",
    "    zLogVar = layers.Dense(latentDim, name='z_log_var')(x)\n",
    "    \n",
    "    # Amostra o vetor latente usando a média e o logaritmo da variância\n",
    "    z = Sampling()([zMean, zLogVar])\n",
    "    \n",
    "    # Retorna o modelo do encoder\n",
    "    return keras.Model(encoderInputs, [zMean, zLogVar, z], name='encoder')\n",
    "\n",
    "# Define as entradas do encoder\n",
    "encoderInputs = keras.Input(shape=(28, 28, 1))\n",
    "\n",
    "# Constrói o modelo do encoder com dimensão latente igual a 2\n",
    "encoder = buildEncoder(2, encoderInputs)\n",
    "\n",
    "# Exibe um resumo do modelo do encoder\n",
    "encoder.summary()"
   ]
  },
  {
   "cell_type": "code",
   "execution_count": 73,
   "metadata": {},
   "outputs": [
    {
     "name": "stdout",
     "output_type": "stream",
     "text": [
      "Model: \"decoder\"\n",
      "_________________________________________________________________\n",
      " Layer (type)                Output Shape              Param #   \n",
      "=================================================================\n",
      " input_9 (InputLayer)        [(None, 2)]               0         \n",
      "                                                                 \n",
      " sequential_6 (Sequential)   (None, 28, 28, 1)         121345    \n",
      "                                                                 \n",
      "=================================================================\n",
      "Total params: 121345 (474.00 KB)\n",
      "Trainable params: 121345 (474.00 KB)\n",
      "Non-trainable params: 0 (0.00 Byte)\n",
      "_________________________________________________________________\n"
     ]
    }
   ],
   "source": [
    "def buildDecoder(latenInputs):\n",
    "    # Cria uma sequência de camadas do modelo do decoder\n",
    "    l1 = keras.models.Sequential([\n",
    "        layers.Dense(7*7*64, activation='relu', input_shape=(2,)),\n",
    "        layers.Reshape((7, 7, 64)),\n",
    "        layers.Conv2DTranspose(64, kernel_size=(3, 3), activation='relu', strides=2, padding='same'),\n",
    "        layers.Conv2DTranspose(128, kernel_size=(3, 3), activation='relu', strides=2, padding='same'),\n",
    "        layers.Conv2D(1, kernel_size=(3, 3), activation='sigmoid', padding='same')\n",
    "    ])\n",
    "    \n",
    "    # Aplica as camadas do modelo do decoder nas entradas do decoder\n",
    "    x = l1(latenInputs)\n",
    "    \n",
    "    # Retorna o modelo do decoder\n",
    "    return keras.Model(latenInputs, x, name='decoder')\n",
    "\n",
    "latentInputs = keras.Input(shape=(2,))\n",
    "decoder = buildDecoder(latentInputs)\n",
    "decoder.summary()"
   ]
  },
  {
   "cell_type": "code",
   "execution_count": 74,
   "metadata": {},
   "outputs": [],
   "source": [
    "def recontructionLoss(data, reconstructded):\n",
    "    return tf.reduce_mean(\n",
    "        tf.reduce_sum(\n",
    "            keras.losses.binary_crossentropy(data, reconstructded), axis=(1, 2)\n",
    "        )\n",
    "    )"
   ]
  },
  {
   "cell_type": "code",
   "execution_count": 75,
   "metadata": {},
   "outputs": [],
   "source": [
    "def KlDivergenceLoss(zMean, zLogVar):\n",
    "    return -0.5 * tf.reduce_mean(\n",
    "        tf.reduce_sum(1 + zLogVar - tf.square(zMean) - tf.exp(zLogVar), axis=1)\n",
    "    )"
   ]
  },
  {
   "cell_type": "code",
   "execution_count": 76,
   "metadata": {},
   "outputs": [],
   "source": [
    "def calcTotalLoss(data, reconstructed, zMean, zLogVar):\n",
    "    reconstructionLoss = recontructionLoss(data, reconstructed)\n",
    "    klDivergenceLoss = KlDivergenceLoss(zMean, zLogVar)\n",
    "    return reconstructionLoss + klDivergenceLoss"
   ]
  },
  {
   "cell_type": "code",
   "execution_count": 77,
   "metadata": {},
   "outputs": [],
   "source": [
    "from keras.metrics import Mean\n",
    "\n",
    "class VAE(Model):\n",
    "    def __init__(self, encoder, decoder, **kwargs):\n",
    "        \"\"\"\n",
    "        Inicializa a classe VAE.\n",
    "\n",
    "        Parâmetros:\n",
    "        - encoder: O modelo do codificador.\n",
    "        - decoder: O modelo do decodificador.\n",
    "        - **kwargs: Argumentos adicionais a serem passados para a classe pai.\n",
    "\n",
    "        \"\"\"\n",
    "        super(VAE, self).__init__(**kwargs)\n",
    "        self.encoder = encoder\n",
    "        self.decoder = decoder\n",
    "\n",
    "        self.totalLossTracker = Mean(name='total_loss')\n",
    "        self.ceLossTracker = Mean(name='ce_loss')\n",
    "        self.klLossTracker = Mean(name='kl_loss')\n",
    "\n",
    "    @property\n",
    "    def metrics(self):\n",
    "        \"\"\"\n",
    "        Retorna as métricas utilizadas para avaliar o modelo.\n",
    "\n",
    "        Retorna:\n",
    "        - Uma lista contendo as métricas utilizadas.\n",
    "\n",
    "        \"\"\"\n",
    "        return [\n",
    "            self.totalLossTracker,\n",
    "            self.ceLossTracker,\n",
    "            self.klLossTracker\n",
    "        ]\n",
    "    \n",
    "    def train_step(self, data):\n",
    "        \"\"\"\n",
    "        Executa um passo de treinamento do modelo.\n",
    "\n",
    "        Parâmetros:\n",
    "        - data: Os dados de entrada para o treinamento.\n",
    "\n",
    "        Retorna:\n",
    "        - Um dicionário contendo as métricas calculadas durante o treinamento.\n",
    "\n",
    "        \"\"\"\n",
    "        with tf.GradientTape() as tape:\n",
    "            zMean, zLogVar, z = self.encoder(data)\n",
    "            reconstruction = self.decoder(z)\n",
    "            ceLoss, klLoss, totalLoss = calcTotalLoss(data, reconstruction, zMean, zLogVar)\n",
    "        \n",
    "        grads = tape.gradient(totalLoss, self.trainable_weights)\n",
    "        self.optimizer.apply_gradients(zip(grads, self.trainable_weights))\n",
    "\n",
    "        self.totalLossTracker.update_state(totalLoss)\n",
    "        self.ceLossTracker.update_state(ceLoss)\n",
    "        self.klLossTracker.update_state(klLoss)\n",
    "\n",
    "        return {\n",
    "            'total_loss': self.totalLossTracker.result(),\n",
    "            'ce_loss': self.ceLossTracker.result(),\n",
    "            'kl_loss': self.klLossTracker.result()\n",
    "        }"
   ]
  },
  {
   "cell_type": "code",
   "execution_count": null,
   "metadata": {},
   "outputs": [],
   "source": [
    "vae = VAE(encoder, decoder)\n",
    "vae.compile(optimizer=keras.optimizers.Adam())\n",
    "hostory = vae.fit(dataset, epochs=30, batch_size=128)"
   ]
  }
 ],
 "metadata": {
  "kernelspec": {
   "display_name": "Python 3",
   "language": "python",
   "name": "python3"
  },
  "language_info": {
   "codemirror_mode": {
    "name": "ipython",
    "version": 3
   },
   "file_extension": ".py",
   "mimetype": "text/x-python",
   "name": "python",
   "nbconvert_exporter": "python",
   "pygments_lexer": "ipython3",
   "version": "3.11.5"
  }
 },
 "nbformat": 4,
 "nbformat_minor": 2
}
