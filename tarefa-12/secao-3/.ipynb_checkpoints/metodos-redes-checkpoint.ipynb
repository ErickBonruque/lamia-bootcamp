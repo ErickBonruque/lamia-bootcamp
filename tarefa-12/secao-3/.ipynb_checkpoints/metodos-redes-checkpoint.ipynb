{
 "cells": [
  {
   "cell_type": "code",
   "execution_count": 2,
   "id": "47837709-e7f0-48f6-a33e-7cc5e3621ad1",
   "metadata": {},
   "outputs": [],
   "source": [
    "import numpy as np\n",
    "\n",
    "def stepFunction(soma):\n",
    "    if(soma >= 1):\n",
    "        return 1\n",
    "    return 0\n",
    "def sigmoidFunction(soma):\n",
    "    return 1 / (1 + np.exp(-soma))"
   ]
  },
  {
   "cell_type": "code",
   "execution_count": 18,
   "id": "567c1de0-689e-4f52-8b6e-b6b809420e4b",
   "metadata": {},
   "outputs": [
    {
     "name": "stdout",
     "output_type": "stream",
     "text": [
      "0\n",
      "0.2689414213699951\n"
     ]
    }
   ],
   "source": [
    "print(stepFunction(-1))\n",
    "print(sigmoidFunction(-1))"
   ]
  },
  {
   "cell_type": "code",
   "execution_count": 12,
   "id": "7715de58-372d-4d4c-a68c-fa9f40eb4650",
   "metadata": {},
   "outputs": [],
   "source": [
    "def tahnFunction(soma):\n",
    "    return (np.exp(soma) - np.exp(-soma)) / (np.exp(soma) + np.exp(-soma))"
   ]
  },
  {
   "cell_type": "code",
   "execution_count": 14,
   "id": "0b8d0ef2-3849-4c94-990e-adc58087b86b",
   "metadata": {},
   "outputs": [
    {
     "data": {
      "text/plain": [
       "0.3434511648102781"
      ]
     },
     "execution_count": 14,
     "metadata": {},
     "output_type": "execute_result"
    }
   ],
   "source": [
    "tahnFunction(0.358)"
   ]
  },
  {
   "cell_type": "code",
   "execution_count": 15,
   "id": "f6662c5d-4abe-4aec-9b1f-8ab76be98b67",
   "metadata": {},
   "outputs": [],
   "source": [
    "def reluFunction(soma):\n",
    "    if soma >= 0:\n",
    "        return soma\n",
    "    return 0\n",
    "\n",
    "def linearFunction(soma):\n",
    "    return soma\n",
    "\n",
    "def softmaxFunction(x):\n",
    "    ex = np.exp(x)\n",
    "    return ex / ex.sum()"
   ]
  },
  {
   "cell_type": "code",
   "execution_count": 17,
   "id": "76fcee7e-15e0-431c-8328-d94baf919186",
   "metadata": {},
   "outputs": [
    {
     "name": "stdout",
     "output_type": "stream",
     "text": [
      "0.358\n",
      "-0.358\n",
      "[0.99001676 0.00667068 0.00331256]\n"
     ]
    }
   ],
   "source": [
    "print(reluFunction(0.358))\n",
    "print(linearFunction(-0.358))\n",
    "print(softmaxFunction([7.0, 2.0, 1.3]))"
   ]
  },
  {
   "cell_type": "code",
   "execution_count": null,
   "id": "01f48620-65cd-4a36-a960-19c96d9977ac",
   "metadata": {},
   "outputs": [],
   "source": []
  }
 ],
 "metadata": {
  "kernelspec": {
   "display_name": "Python 3 (ipykernel)",
   "language": "python",
   "name": "python3"
  },
  "language_info": {
   "codemirror_mode": {
    "name": "ipython",
    "version": 3
   },
   "file_extension": ".py",
   "mimetype": "text/x-python",
   "name": "python",
   "nbconvert_exporter": "python",
   "pygments_lexer": "ipython3",
   "version": "3.11.5"
  }
 },
 "nbformat": 4,
 "nbformat_minor": 5
}
