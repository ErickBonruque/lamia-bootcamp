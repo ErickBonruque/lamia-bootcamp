{
 "cells": [
  {
   "cell_type": "code",
   "execution_count": 1,
   "id": "8f8dc078-2092-40a0-80f6-a51df7a67ef6",
   "metadata": {},
   "outputs": [
    {
     "name": "stdout",
     "output_type": "stream",
     "text": [
      "WARNING:tensorflow:From C:\\Users\\bonru\\AppData\\Local\\Programs\\Python\\Python311\\Lib\\site-packages\\keras\\losses.py:2664: The name tf.losses.sparse_softmax_cross_entropy is deprecated. Please use tf.compat.v1.losses.sparse_softmax_cross_entropy instead.\n",
      "\n"
     ]
    }
   ],
   "source": [
    "import pandas as pd\n",
    "from keras.models import Sequential\n",
    "from keras.layers import Dense\n",
    "\n",
    "base = pd.read_csv('autos.csv', encoding='ISO-8859-1')\n",
    "base = base.drop('dateCrawled', axis=1)\n",
    "base = base.drop('dateCreated', axis=1)\n",
    "base = base.drop('nrOfPictures', axis=1)\n",
    "base = base.drop('postalCode', axis=1)\n",
    "base = base.drop('lastSeen', axis=1)"
   ]
  },
  {
   "cell_type": "code",
   "execution_count": 5,
   "id": "e4fbb794-f9a4-48ee-9ecc-fc4bb9c71cbd",
   "metadata": {},
   "outputs": [],
   "source": [
    "i1 = base.loc[base.price <= 10]\n",
    "base.price.mean()\n",
    "base = base[base.price > 10]\n",
    "i2 = base.loc[base.price > 350000]\n",
    "base = base.loc[base.price < 350000]\n",
    "\n",
    "valores = {'vehicleType': 'limousine', 'gearbox': 'manuell',\n",
    "           'model': 'golf', 'fuelType': 'benzin',\n",
    "           'notRepairedDamage': 'nein'}\n",
    "base = base.fillna(value = valores)"
   ]
  },
  {
   "cell_type": "code",
   "execution_count": 7,
   "id": "2d22e53a-5b50-4875-a630-768497b9c17b",
   "metadata": {},
   "outputs": [],
   "source": [
    "previsores = base.iloc[:, 1:13].values\n",
    "preco_real = base.iloc[:, 0].values\n",
    "\n",
    "from sklearn.preprocessing import LabelEncoder, OneHotEncoder\n",
    "from sklearn.compose import ColumnTransformer\n",
    "labelencoder_previsores = LabelEncoder()\n",
    "previsores[:, 0] = labelencoder_previsores.fit_transform(previsores[:, 0])\n",
    "previsores[:, 1] = labelencoder_previsores.fit_transform(previsores[:, 1])\n",
    "previsores[:, 3] = labelencoder_previsores.fit_transform(previsores[:, 3])\n",
    "previsores[:, 5] = labelencoder_previsores.fit_transform(previsores[:, 5])\n",
    "previsores[:, 8] = labelencoder_previsores.fit_transform(previsores[:, 8])\n",
    "previsores[:, 9] = labelencoder_previsores.fit_transform(previsores[:, 9])\n",
    "previsores[:, 10] = labelencoder_previsores.fit_transform(previsores[:, 10])"
   ]
  },
  {
   "cell_type": "code",
   "execution_count": null,
   "id": "5b9e251a-5f3b-42b9-9898-2fd59db6c445",
   "metadata": {},
   "outputs": [],
   "source": [
    "regressor = Sequential()\n",
    "regressor.add(Dense(units = 158, activation = 'relu', input_dim = 316))\n",
    "regressor.add(Dense(units = 158, activation = 'relu'))\n",
    "regressor.add(Dense(units = 1, activation = 'linear'))\n",
    "regressor.compile(loss = 'mean_absolute_error', optimizer = 'adam',\n",
    "                  metrics = ['mean_absolute_error'])\n",
    "regressor.fit(previsores, preco_real, batch_size = 300, epochs = 100)"
   ]
  }
 ],
 "metadata": {
  "kernelspec": {
   "display_name": "Python 3 (ipykernel)",
   "language": "python",
   "name": "python3"
  },
  "language_info": {
   "codemirror_mode": {
    "name": "ipython",
    "version": 3
   },
   "file_extension": ".py",
   "mimetype": "text/x-python",
   "name": "python",
   "nbconvert_exporter": "python",
   "pygments_lexer": "ipython3",
   "version": "3.11.5"
  }
 },
 "nbformat": 4,
 "nbformat_minor": 5
}
