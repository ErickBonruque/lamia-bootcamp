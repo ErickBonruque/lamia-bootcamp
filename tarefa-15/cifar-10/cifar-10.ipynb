{
 "cells": [
  {
   "cell_type": "code",
   "execution_count": 1,
   "id": "5891048d-1665-4f47-95dd-516bca689a04",
   "metadata": {},
   "outputs": [
    {
     "name": "stdout",
     "output_type": "stream",
     "text": [
      "WARNING:tensorflow:From C:\\Users\\bonru\\AppData\\Local\\Programs\\Python\\Python311\\Lib\\site-packages\\keras\\losses.py:2664: The name tf.losses.sparse_softmax_cross_entropy is deprecated. Please use tf.compat.v1.losses.sparse_softmax_cross_entropy instead.\n",
      "\n"
     ]
    }
   ],
   "source": [
    "from keras.datasets import cifar10\n",
    "from keras.layers import Input, Conv2D, Dense, Flatten, Dropout, GlobalMaxPooling2D\n",
    "from keras.models import Model"
   ]
  },
  {
   "cell_type": "code",
   "execution_count": 2,
   "id": "63f64d13-ee23-4617-ae3d-0c8524eafcdb",
   "metadata": {},
   "outputs": [],
   "source": [
    "(x_treinamento, y_treinamento), (x_teste, y_teste) = cifar10.load_data()\n",
    "x_treinamento, x_teste = x_treinamento/255.0, x_teste/255.0\n",
    "y_treinamento, y_teste = y_treinamento.flatten(), y_teste.flatten()"
   ]
  },
  {
   "cell_type": "code",
   "execution_count": 7,
   "id": "9e2254bc-9bc4-4670-b9e2-28dcee451007",
   "metadata": {},
   "outputs": [],
   "source": [
    "amostra = Input(shape=x_treinamento[0].shape)\n",
    "\n",
    "layer = Conv2D(32, (3, 3), strides=2, activation='relu')(amostra)\n",
    "layer = Conv2D(64, (3, 3), strides=2, activation='relu')(layer)\n",
    "layer = Conv2D(128, (3, 3), strides=2, activation='relu')(layer)\n",
    "layer = Flatten()(layer)\n",
    "layer = Dropout(0.5)(layer)\n",
    "layer = Dense(1024, activation='relu')(layer)\n",
    "layer = Dropout(0.2)(layer)\n",
    "layer = Dense(10, activation='softmax')(layer)\n",
    "\n",
    "model = Model(amostra, layer)"
   ]
  },
  {
   "cell_type": "code",
   "execution_count": 8,
   "id": "8d1715c2-3e63-40b3-a4d1-cae87c796640",
   "metadata": {},
   "outputs": [
    {
     "name": "stdout",
     "output_type": "stream",
     "text": [
      "Epoch 1/15\n",
      "1563/1563 [==============================] - 29s 18ms/step - loss: 1.5955 - val_loss: 1.3266\n",
      "Epoch 2/15\n",
      "1563/1563 [==============================] - 27s 17ms/step - loss: 1.2960 - val_loss: 1.1655\n",
      "Epoch 3/15\n",
      "1563/1563 [==============================] - 28s 18ms/step - loss: 1.1715 - val_loss: 1.1107\n",
      "Epoch 4/15\n",
      "1563/1563 [==============================] - 27s 18ms/step - loss: 1.0781 - val_loss: 0.9969\n",
      "Epoch 5/15\n",
      "1563/1563 [==============================] - 28s 18ms/step - loss: 1.0150 - val_loss: 0.9784\n",
      "Epoch 6/15\n",
      "1563/1563 [==============================] - 27s 17ms/step - loss: 0.9544 - val_loss: 0.9194\n",
      "Epoch 7/15\n",
      "1563/1563 [==============================] - 27s 17ms/step - loss: 0.9051 - val_loss: 0.8968\n",
      "Epoch 8/15\n",
      "1563/1563 [==============================] - 27s 17ms/step - loss: 0.8594 - val_loss: 0.8935\n",
      "Epoch 9/15\n",
      "1563/1563 [==============================] - 27s 17ms/step - loss: 0.8203 - val_loss: 0.8682\n",
      "Epoch 10/15\n",
      "1563/1563 [==============================] - 28s 18ms/step - loss: 0.7798 - val_loss: 0.8604\n",
      "Epoch 11/15\n",
      "1563/1563 [==============================] - 27s 17ms/step - loss: 0.7478 - val_loss: 0.8250\n",
      "Epoch 12/15\n",
      "1563/1563 [==============================] - 26s 17ms/step - loss: 0.7308 - val_loss: 0.8399\n",
      "Epoch 13/15\n",
      "1563/1563 [==============================] - 27s 18ms/step - loss: 0.7052 - val_loss: 0.8444\n",
      "Epoch 14/15\n",
      "1563/1563 [==============================] - 27s 17ms/step - loss: 0.6812 - val_loss: 0.8183\n",
      "Epoch 15/15\n",
      "1563/1563 [==============================] - 27s 17ms/step - loss: 0.6605 - val_loss: 0.8160\n"
     ]
    }
   ],
   "source": [
    "model.compile(optimizer='adam', loss='sparse_categorical_crossentropy')\n",
    "history = model.fit(x_treinamento, y_treinamento, validation_data=(x_teste, y_teste), epochs=15)"
   ]
  },
  {
   "cell_type": "code",
   "execution_count": null,
   "id": "9db8462b-084e-4958-9e50-45d7538b0848",
   "metadata": {},
   "outputs": [],
   "source": []
  }
 ],
 "metadata": {
  "kernelspec": {
   "display_name": "Python 3 (ipykernel)",
   "language": "python",
   "name": "python3"
  },
  "language_info": {
   "codemirror_mode": {
    "name": "ipython",
    "version": 3
   },
   "file_extension": ".py",
   "mimetype": "text/x-python",
   "name": "python",
   "nbconvert_exporter": "python",
   "pygments_lexer": "ipython3",
   "version": "3.11.5"
  }
 },
 "nbformat": 4,
 "nbformat_minor": 5
}
