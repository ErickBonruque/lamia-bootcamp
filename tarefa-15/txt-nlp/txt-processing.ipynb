{
 "cells": [
  {
   "cell_type": "code",
   "execution_count": 2,
   "id": "057f1286-a992-4387-bed9-9f22ea5b5f16",
   "metadata": {},
   "outputs": [],
   "source": [
    "from keras.preprocessing.text import Tokenizer\n",
    "from tensorflow.keras.preprocessing.sequence import pad_sequences"
   ]
  },
  {
   "cell_type": "code",
   "execution_count": 3,
   "id": "07a55c75-0116-4883-b53d-1897d66dd87d",
   "metadata": {},
   "outputs": [],
   "source": [
    "sentences = [\n",
    "    \"I like eggs and ham.\",\n",
    "    \"I love chocolate and bunnies.\",\n",
    "    \"I hate onions.\"\n",
    "]\n",
    "max_vocab = 20000\n",
    "tokenizer = Tokenizer(num_words=max_vocab)\n",
    "tokenizer.fit_on_texts(sentences)\n",
    "sequences = tokenizer.texts_to_sequences(sentences)"
   ]
  },
  {
   "cell_type": "code",
   "execution_count": 4,
   "id": "f1e163cd-4720-47ad-b723-05d731707482",
   "metadata": {},
   "outputs": [
    {
     "name": "stdout",
     "output_type": "stream",
     "text": [
      "{'i': 1, 'and': 2, 'like': 3, 'eggs': 4, 'ham': 5, 'love': 6, 'chocolate': 7, 'bunnies': 8, 'hate': 9, 'onions': 10}\n",
      "[[1, 3, 4, 2, 5], [1, 6, 7, 2, 8], [1, 9, 10]]\n"
     ]
    }
   ],
   "source": [
    "print(tokenizer.word_index)\n",
    "print(sequences)"
   ]
  },
  {
   "cell_type": "code",
   "execution_count": 5,
   "id": "096bae6e-8e64-47fc-8411-832d5ec6a9eb",
   "metadata": {},
   "outputs": [
    {
     "name": "stdout",
     "output_type": "stream",
     "text": [
      "[[ 1  3  4  2  5]\n",
      " [ 1  6  7  2  8]\n",
      " [ 0  0  1  9 10]]\n",
      "[[ 1  3  4  2  5]\n",
      " [ 1  6  7  2  8]\n",
      " [ 1  9 10  0  0]]\n"
     ]
    }
   ],
   "source": [
    "max_sequence = 5\n",
    "data = pad_sequences(sequences)\n",
    "print(data)\n",
    "data = pad_sequences(sequences, maxlen=max_sequence , padding='post')\n",
    "print(data)"
   ]
  },
  {
   "cell_type": "code",
   "execution_count": null,
   "id": "e03a8fed-849e-48c8-a583-ec87b05db187",
   "metadata": {},
   "outputs": [],
   "source": []
  }
 ],
 "metadata": {
  "kernelspec": {
   "display_name": "Python 3 (ipykernel)",
   "language": "python",
   "name": "python3"
  },
  "language_info": {
   "codemirror_mode": {
    "name": "ipython",
    "version": 3
   },
   "file_extension": ".py",
   "mimetype": "text/x-python",
   "name": "python",
   "nbconvert_exporter": "python",
   "pygments_lexer": "ipython3",
   "version": "3.11.5"
  }
 },
 "nbformat": 4,
 "nbformat_minor": 5
}
