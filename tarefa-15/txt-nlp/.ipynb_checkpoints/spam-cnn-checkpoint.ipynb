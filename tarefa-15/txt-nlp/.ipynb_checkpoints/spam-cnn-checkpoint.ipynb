{
 "cells": [
  {
   "cell_type": "code",
   "execution_count": 13,
   "id": "66495b3e-30ad-4158-bd6d-68fb1be6507a",
   "metadata": {},
   "outputs": [],
   "source": [
    "import numpy as np\n",
    "import pandas as pd\n",
    "import matplotlib.pyplot as plt\n",
    "from sklearn.model_selection import train_test_split\n",
    "from tensorflow.keras.preprocessing.text import Tokenizer\n",
    "from tensorflow.keras.preprocessing.sequence import pad_sequences\n",
    "from tensorflow.keras.layers import Dense, Input, GlobalMaxPooling1D, Conv1D, MaxPooling1D, Embedding, Dropout\n",
    "from tensorflow.keras.models import Model\n",
    "from keras import regularizers"
   ]
  },
  {
   "cell_type": "code",
   "execution_count": 14,
   "id": "66b8825b-c1a5-4c17-ad45-3463bda2e4c7",
   "metadata": {},
   "outputs": [
    {
     "data": {
      "text/html": [
       "<div>\n",
       "<style scoped>\n",
       "    .dataframe tbody tr th:only-of-type {\n",
       "        vertical-align: middle;\n",
       "    }\n",
       "\n",
       "    .dataframe tbody tr th {\n",
       "        vertical-align: top;\n",
       "    }\n",
       "\n",
       "    .dataframe thead th {\n",
       "        text-align: right;\n",
       "    }\n",
       "</style>\n",
       "<table border=\"1\" class=\"dataframe\">\n",
       "  <thead>\n",
       "    <tr style=\"text-align: right;\">\n",
       "      <th></th>\n",
       "      <th>v1</th>\n",
       "      <th>v2</th>\n",
       "      <th>Unnamed: 2</th>\n",
       "      <th>Unnamed: 3</th>\n",
       "      <th>Unnamed: 4</th>\n",
       "    </tr>\n",
       "  </thead>\n",
       "  <tbody>\n",
       "    <tr>\n",
       "      <th>0</th>\n",
       "      <td>ham</td>\n",
       "      <td>Go until jurong point, crazy.. Available only ...</td>\n",
       "      <td>NaN</td>\n",
       "      <td>NaN</td>\n",
       "      <td>NaN</td>\n",
       "    </tr>\n",
       "    <tr>\n",
       "      <th>1</th>\n",
       "      <td>ham</td>\n",
       "      <td>Ok lar... Joking wif u oni...</td>\n",
       "      <td>NaN</td>\n",
       "      <td>NaN</td>\n",
       "      <td>NaN</td>\n",
       "    </tr>\n",
       "    <tr>\n",
       "      <th>2</th>\n",
       "      <td>spam</td>\n",
       "      <td>Free entry in 2 a wkly comp to win FA Cup fina...</td>\n",
       "      <td>NaN</td>\n",
       "      <td>NaN</td>\n",
       "      <td>NaN</td>\n",
       "    </tr>\n",
       "    <tr>\n",
       "      <th>3</th>\n",
       "      <td>ham</td>\n",
       "      <td>U dun say so early hor... U c already then say...</td>\n",
       "      <td>NaN</td>\n",
       "      <td>NaN</td>\n",
       "      <td>NaN</td>\n",
       "    </tr>\n",
       "    <tr>\n",
       "      <th>4</th>\n",
       "      <td>ham</td>\n",
       "      <td>Nah I don't think he goes to usf, he lives aro...</td>\n",
       "      <td>NaN</td>\n",
       "      <td>NaN</td>\n",
       "      <td>NaN</td>\n",
       "    </tr>\n",
       "  </tbody>\n",
       "</table>\n",
       "</div>"
      ],
      "text/plain": [
       "     v1                                                 v2 Unnamed: 2  \\\n",
       "0   ham  Go until jurong point, crazy.. Available only ...        NaN   \n",
       "1   ham                      Ok lar... Joking wif u oni...        NaN   \n",
       "2  spam  Free entry in 2 a wkly comp to win FA Cup fina...        NaN   \n",
       "3   ham  U dun say so early hor... U c already then say...        NaN   \n",
       "4   ham  Nah I don't think he goes to usf, he lives aro...        NaN   \n",
       "\n",
       "  Unnamed: 3 Unnamed: 4  \n",
       "0        NaN        NaN  \n",
       "1        NaN        NaN  \n",
       "2        NaN        NaN  \n",
       "3        NaN        NaN  \n",
       "4        NaN        NaN  "
      ]
     },
     "execution_count": 14,
     "metadata": {},
     "output_type": "execute_result"
    }
   ],
   "source": [
    "base = pd.read_csv(\"spam.csv\", encoding=\"ISO-8859-1\")\n",
    "base.head()"
   ]
  },
  {
   "cell_type": "code",
   "execution_count": 15,
   "id": "332cb4cc-60e9-4e5c-84b9-8a870d5f6353",
   "metadata": {},
   "outputs": [],
   "source": [
    "base = base.drop([\"Unnamed: 2\", \"Unnamed: 3\", \"Unnamed: 4\"], axis=1)\n",
    "base.columns = [\"labels\", \"data\"]"
   ]
  },
  {
   "cell_type": "code",
   "execution_count": 16,
   "id": "c1e612da-3edb-4aaf-8bff-bb82def09398",
   "metadata": {},
   "outputs": [
    {
     "data": {
      "text/html": [
       "<div>\n",
       "<style scoped>\n",
       "    .dataframe tbody tr th:only-of-type {\n",
       "        vertical-align: middle;\n",
       "    }\n",
       "\n",
       "    .dataframe tbody tr th {\n",
       "        vertical-align: top;\n",
       "    }\n",
       "\n",
       "    .dataframe thead th {\n",
       "        text-align: right;\n",
       "    }\n",
       "</style>\n",
       "<table border=\"1\" class=\"dataframe\">\n",
       "  <thead>\n",
       "    <tr style=\"text-align: right;\">\n",
       "      <th></th>\n",
       "      <th>labels</th>\n",
       "      <th>data</th>\n",
       "    </tr>\n",
       "  </thead>\n",
       "  <tbody>\n",
       "    <tr>\n",
       "      <th>0</th>\n",
       "      <td>ham</td>\n",
       "      <td>Go until jurong point, crazy.. Available only ...</td>\n",
       "    </tr>\n",
       "    <tr>\n",
       "      <th>1</th>\n",
       "      <td>ham</td>\n",
       "      <td>Ok lar... Joking wif u oni...</td>\n",
       "    </tr>\n",
       "    <tr>\n",
       "      <th>2</th>\n",
       "      <td>spam</td>\n",
       "      <td>Free entry in 2 a wkly comp to win FA Cup fina...</td>\n",
       "    </tr>\n",
       "    <tr>\n",
       "      <th>3</th>\n",
       "      <td>ham</td>\n",
       "      <td>U dun say so early hor... U c already then say...</td>\n",
       "    </tr>\n",
       "    <tr>\n",
       "      <th>4</th>\n",
       "      <td>ham</td>\n",
       "      <td>Nah I don't think he goes to usf, he lives aro...</td>\n",
       "    </tr>\n",
       "  </tbody>\n",
       "</table>\n",
       "</div>"
      ],
      "text/plain": [
       "  labels                                               data\n",
       "0    ham  Go until jurong point, crazy.. Available only ...\n",
       "1    ham                      Ok lar... Joking wif u oni...\n",
       "2   spam  Free entry in 2 a wkly comp to win FA Cup fina...\n",
       "3    ham  U dun say so early hor... U c already then say...\n",
       "4    ham  Nah I don't think he goes to usf, he lives aro..."
      ]
     },
     "execution_count": 16,
     "metadata": {},
     "output_type": "execute_result"
    }
   ],
   "source": [
    "base.head()"
   ]
  },
  {
   "cell_type": "code",
   "execution_count": 17,
   "id": "1eb94992-11ff-4d2b-947d-2569d3562bee",
   "metadata": {},
   "outputs": [],
   "source": [
    "base[\"b_labels\"] = base[\"labels\"].map({\"ham\": 0, \"spam\": 1})\n",
    "\n",
    "y = base[\"b_labels\"].values\n",
    "x = base[\"data\"]"
   ]
  },
  {
   "cell_type": "code",
   "execution_count": 18,
   "id": "a6924340-8842-46b3-80ef-ebe26c0956e2",
   "metadata": {},
   "outputs": [],
   "source": [
    "x_treinamento , x_teste, y_trainamento, y_teste = train_test_split(x, y, test_size=0.33)"
   ]
  },
  {
   "cell_type": "code",
   "execution_count": 19,
   "id": "80afee76-c94e-4d59-a017-c133a744976f",
   "metadata": {},
   "outputs": [],
   "source": [
    "tokenizer = Tokenizer(num_words=20000)\n",
    "\n",
    "tokenizer.fit_on_texts(x_treinamento)\n",
    "\n",
    "sequences_trainamento = tokenizer.texts_to_sequences(x_treinamento)\n",
    "sequences_teste = tokenizer.texts_to_sequences(x_teste)"
   ]
  },
  {
   "cell_type": "code",
   "execution_count": 28,
   "id": "83ea83cd-f7ca-4a54-ba7d-dba17491f505",
   "metadata": {},
   "outputs": [],
   "source": [
    "V = len(tokenizer.word_index)\n",
    "max_len_train = max(len(seq) for seq in sequences_trainamento)\n",
    "\n",
    "T = max_len_train\n",
    "\n",
    "data_treinamento = pad_sequences(sequences_trainamento, maxlen=T)\n",
    "data_teste = pad_sequences(sequences_teste, maxlen=T)"
   ]
  },
  {
   "cell_type": "code",
   "execution_count": 21,
   "id": "33668c76-d777-4e09-a8a0-15c981d92a42",
   "metadata": {},
   "outputs": [],
   "source": [
    "D = 20\n",
    "i = Input(shape=(T, ))\n",
    "\n",
    "layer = Embedding(V + 1, D)(i)\n",
    "layer = Conv1D(32, 3, activation='relu')(layer)\n",
    "layer = MaxPooling1D(3)(layer)\n",
    "\n",
    "\n",
    "layer = Conv1D(64, 3, activation='relu')(layer)\n",
    "layer = MaxPooling1D(3)(layer)\n",
    "\n",
    "layer = Conv1D(128, 3, activation='relu')(layer)\n",
    "layer = GlobalMaxPooling1D()(layer)\n",
    "\n",
    "layer = Dropout(0.2)(layer)\n",
    "layer = Dense(64, kernel_regularizer=regularizers.l1(0.01), activation='relu')(layer)\n",
    "\n",
    "layer = Dense(1, activation='sigmoid')(layer)\n",
    "\n",
    "model = Model(i, layer)"
   ]
  },
  {
   "cell_type": "code",
   "execution_count": 29,
   "id": "5ba49e74-b89f-4580-b326-b2e2f133e7f2",
   "metadata": {},
   "outputs": [
    {
     "name": "stdout",
     "output_type": "stream",
     "text": [
      "Epoch 1/20\n",
      "WARNING:tensorflow:From C:\\Users\\bonru\\AppData\\Local\\Programs\\Python\\Python311\\Lib\\site-packages\\keras\\utils\\tf_utils.py:490: The name tf.ragged.RaggedTensorValue is deprecated. Please use tf.compat.v1.ragged.RaggedTensorValue instead.\n",
      "\n",
      "WARNING:tensorflow:From C:\\Users\\bonru\\AppData\\Local\\Programs\\Python\\Python311\\Lib\\site-packages\\keras\\engine\\base_layer_utils.py:380: The name tf.executing_eagerly_outside_functions is deprecated. Please use tf.compat.v1.executing_eagerly_outside_functions instead.\n",
      "\n",
      "117/117 [==============================] - 8s 22ms/step - loss: 4.0180 - accuracy: 0.8674 - val_loss: 1.2952 - val_accuracy: 0.8630\n",
      "Epoch 2/20\n",
      "117/117 [==============================] - 2s 14ms/step - loss: 0.4887 - accuracy: 0.8741 - val_loss: 0.2726 - val_accuracy: 0.9201\n",
      "Epoch 3/20\n",
      "117/117 [==============================] - 1s 10ms/step - loss: 0.2009 - accuracy: 0.9585 - val_loss: 0.2101 - val_accuracy: 0.9603\n",
      "Epoch 4/20\n",
      "117/117 [==============================] - 1s 12ms/step - loss: 0.0920 - accuracy: 0.9877 - val_loss: 0.1632 - val_accuracy: 0.9772\n",
      "Epoch 5/20\n",
      "117/117 [==============================] - 1s 12ms/step - loss: 0.0635 - accuracy: 0.9962 - val_loss: 0.1098 - val_accuracy: 0.9859\n",
      "Epoch 6/20\n",
      "117/117 [==============================] - 1s 12ms/step - loss: 0.0425 - accuracy: 0.9989 - val_loss: 0.0843 - val_accuracy: 0.9859\n",
      "Epoch 7/20\n",
      "117/117 [==============================] - 1s 11ms/step - loss: 0.0383 - accuracy: 0.9992 - val_loss: 0.0832 - val_accuracy: 0.9848\n",
      "Epoch 8/20\n",
      "117/117 [==============================] - 1s 10ms/step - loss: 0.0383 - accuracy: 0.9989 - val_loss: 0.1243 - val_accuracy: 0.9837\n",
      "Epoch 9/20\n",
      "117/117 [==============================] - 1s 12ms/step - loss: 0.0280 - accuracy: 0.9995 - val_loss: 0.0878 - val_accuracy: 0.9853\n",
      "Epoch 10/20\n",
      "117/117 [==============================] - 2s 14ms/step - loss: 0.0275 - accuracy: 0.9992 - val_loss: 0.0839 - val_accuracy: 0.9864\n",
      "Epoch 11/20\n",
      "117/117 [==============================] - 2s 16ms/step - loss: 0.0260 - accuracy: 0.9992 - val_loss: 0.0755 - val_accuracy: 0.9864\n",
      "Epoch 12/20\n",
      "117/117 [==============================] - 2s 17ms/step - loss: 0.0224 - accuracy: 0.9997 - val_loss: 0.1005 - val_accuracy: 0.9864\n",
      "Epoch 13/20\n",
      "117/117 [==============================] - 2s 16ms/step - loss: 0.0253 - accuracy: 0.9995 - val_loss: 0.0927 - val_accuracy: 0.9869\n",
      "Epoch 14/20\n",
      "117/117 [==============================] - 2s 17ms/step - loss: 0.0327 - accuracy: 0.9995 - val_loss: 0.0947 - val_accuracy: 0.9859\n",
      "Epoch 15/20\n",
      "117/117 [==============================] - 1s 13ms/step - loss: 0.0203 - accuracy: 1.0000 - val_loss: 0.1052 - val_accuracy: 0.9848\n",
      "Epoch 16/20\n",
      "117/117 [==============================] - 1s 11ms/step - loss: 0.0388 - accuracy: 0.9989 - val_loss: 0.1081 - val_accuracy: 0.9859\n",
      "Epoch 17/20\n",
      "117/117 [==============================] - 1s 11ms/step - loss: 0.0195 - accuracy: 1.0000 - val_loss: 0.1130 - val_accuracy: 0.9859\n",
      "Epoch 18/20\n",
      "117/117 [==============================] - 1s 11ms/step - loss: 0.0316 - accuracy: 0.9997 - val_loss: 0.2263 - val_accuracy: 0.9848\n",
      "Epoch 19/20\n",
      "117/117 [==============================] - 1s 10ms/step - loss: 0.0203 - accuracy: 0.9997 - val_loss: 0.1064 - val_accuracy: 0.9859\n",
      "Epoch 20/20\n",
      "117/117 [==============================] - 1s 11ms/step - loss: 0.0550 - accuracy: 0.9992 - val_loss: 0.2559 - val_accuracy: 0.9869\n"
     ]
    }
   ],
   "source": [
    "model.compile(\n",
    "    loss=\"binary_crossentropy\",\n",
    "    optimizer=\"adam\",\n",
    "    metrics=[\"accuracy\"]\n",
    ")\n",
    "\n",
    "results = model.fit(data_treinamento , y_trainamento, epochs=20, validation_data=(data_teste, y_teste))"
   ]
  },
  {
   "cell_type": "code",
   "execution_count": null,
   "id": "62eab046-0ce8-47ae-ae9b-f98d7e601171",
   "metadata": {},
   "outputs": [],
   "source": []
  }
 ],
 "metadata": {
  "kernelspec": {
   "display_name": "Python 3 (ipykernel)",
   "language": "python",
   "name": "python3"
  },
  "language_info": {
   "codemirror_mode": {
    "name": "ipython",
    "version": 3
   },
   "file_extension": ".py",
   "mimetype": "text/x-python",
   "name": "python",
   "nbconvert_exporter": "python",
   "pygments_lexer": "ipython3",
   "version": "3.11.5"
  }
 },
 "nbformat": 4,
 "nbformat_minor": 5
}
